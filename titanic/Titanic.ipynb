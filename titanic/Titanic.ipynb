{
 "cells": [
  {
   "cell_type": "markdown",
   "metadata": {},
   "source": [
    "# Titanic: Machine Learning from Disaster\n",
    "\n",
    "### Binary classification\n",
    "\n",
    "https://www.kaggle.com/c/titanic/data"
   ]
  },
  {
   "cell_type": "code",
   "execution_count": 1,
   "metadata": {
    "collapsed": true
   },
   "outputs": [],
   "source": [
    "import pandas as pd\n",
    "from pylab import *\n",
    "import numpy as np\n",
    "\n",
    "# models\n",
    "from sklearn.linear_model import LogisticRegression\n",
    "from sklearn.ensemble import RandomForestClassifier\n",
    "from sklearn.svm import SVC\n",
    "\n",
    "# validation\n",
    "from sklearn.model_selection import cross_val_score\n",
    "from sklearn.model_selection import GridSearchCV\n",
    "\n",
    "# helpers\n",
    "from sklearn.model_selection import train_test_split\n",
    "from sklearn import metrics\n",
    "\n",
    "%matplotlib inline"
   ]
  },
  {
   "cell_type": "code",
   "execution_count": 2,
   "metadata": {
    "collapsed": true
   },
   "outputs": [],
   "source": [
    "# helpers\n",
    "\n",
    "def map_fare(data):\n",
    "    data.loc[data['Fare'] <= 7.91, 'Fare'] = 0\n",
    "    data.loc[(data['Fare'] > 7.91) & (data['Fare'] <= 14.454), 'Fare'] = 1\n",
    "    data.loc[(data['Fare'] > 14.454) & (data['Fare'] <= 31), 'Fare'] = 2\n",
    "    data.loc[data['Fare'] > 31, 'Fare'] = 3\n",
    "\n",
    "def map_age(data):\n",
    "    data.loc[data[\"Age\"] <= 16, \"Age\"] = 0\n",
    "    data.loc[(data[\"Age\"] > 16) & (data[\"Age\"] <= 32), \"Age\"] = 1\n",
    "    data.loc[(data[\"Age\"] > 32) & (data[\"Age\"] <= 48), \"Age\"] = 2\n",
    "    data.loc[(data[\"Age\"] > 48) & (data[\"Age\"] <= 64), \"Age\"] = 3\n",
    "    data.loc[data[\"Age\"] > 64, \"Age\"] = 4\n",
    "\n",
    "def map_sex(data):\n",
    "    data[\"Sex\"] = data[\"Sex\"].map({\"male\": 0, \"female\": 1})\n",
    "\n",
    "def map_emabarked(data):\n",
    "    data[\"Embarked\"] = data[\"Embarked\"].map({\"S\": 0, \"C\": 1, \"Q\": 2})\n",
    "\n",
    "def drop_elements(data):\n",
    "    data.drop([\"PassengerId\", \"Name\", \"Ticket\", \"Cabin\"], axis=1, inplace=True)\n",
    "\n",
    "def process_missing(data):\n",
    "    data[\"Embarked\"].fillna(\"S\", inplace=True)\n",
    "    data[\"Fare\"].fillna(data[\"Fare\"].median(), inplace=True)\n",
    "    data[\"Age\"].fillna(data[\"Age\"].median(), inplace=True)"
   ]
  },
  {
   "cell_type": "code",
   "execution_count": 3,
   "metadata": {
    "collapsed": true
   },
   "outputs": [],
   "source": [
    "# load data\n",
    "df_train_i = pd.read_csv(\"data/train.csv\")\n",
    "df_test_i = pd.read_csv(\"data/test.csv\")\n",
    "df_test_res_i = pd.read_csv(\"data/result-for-test.csv\")"
   ]
  },
  {
   "cell_type": "code",
   "execution_count": 4,
   "metadata": {
    "collapsed": true
   },
   "outputs": [],
   "source": [
    "# create copy of train and test data\n",
    "df = df_train_i.copy()\n",
    "df_test = df_test_i.copy()"
   ]
  },
  {
   "cell_type": "code",
   "execution_count": 5,
   "metadata": {},
   "outputs": [
    {
     "name": "stdout",
     "output_type": "stream",
     "text": [
      "Cabin - 687\n",
      "Age   - 177\n",
      "Sex   - 0\n",
      "SibSp - 0\n",
      "Fare  - 15\n",
      "Class - 0\n",
      "Embarked - 2\n"
     ]
    }
   ],
   "source": [
    "# check empty data\n",
    "print(f\"Cabin - {df[pd.isnull(df['Cabin'])].shape[0]}\")\n",
    "print(f\"Age   - {df[pd.isnull(df['Age'])].shape[0]}\")\n",
    "print(f\"Sex   - {df[pd.isnull(df['Sex'])].shape[0]}\")\n",
    "print(f\"SibSp - {df[pd.isnull(df['SibSp'])].shape[0]}\")\n",
    "print(f\"Fare  - {df[pd.isnull(df['Fare']) | df['Fare'] == 0].shape[0]}\")\n",
    "print(f\"Class - {df[pd.isnull(df['Pclass']) | df['Pclass'] == 0].shape[0]}\")\n",
    "print(f\"Embarked - {df[pd.isnull(df['Embarked'])].shape[0]}\")"
   ]
  },
  {
   "cell_type": "code",
   "execution_count": 6,
   "metadata": {
    "collapsed": true
   },
   "outputs": [],
   "source": [
    "# process train data\n",
    "drop_elements(df)\n",
    "process_missing(df)\n",
    "map_sex(df)\n",
    "map_emabarked(df)\n",
    "# map_age(df)\n",
    "# map_fare(df)\n",
    "\n",
    "# process test data\n",
    "drop_elements(df_test)\n",
    "process_missing(df_test)\n",
    "map_sex(df_test)\n",
    "map_emabarked(df_test)\n",
    "# map_age(df_test)\n",
    "# map_fare(df_test)"
   ]
  },
  {
   "cell_type": "code",
   "execution_count": 7,
   "metadata": {
    "scrolled": true
   },
   "outputs": [
    {
     "data": {
      "text/plain": [
       "Pclass\n",
       "1    84.154687\n",
       "2    20.662183\n",
       "3    13.675550\n",
       "Name: Fare, dtype: float64"
      ]
     },
     "execution_count": 7,
     "metadata": {},
     "output_type": "execute_result"
    }
   ],
   "source": [
    "# print(df.columns)\n",
    "df.groupby([\"Pclass\"])[\"Fare\"].mean()"
   ]
  },
  {
   "cell_type": "code",
   "execution_count": 8,
   "metadata": {
    "collapsed": true
   },
   "outputs": [],
   "source": [
    "features = df[[\"Age\", \"Sex\", \"Pclass\", \"Parch\", \"Fare\", \"Embarked\", \"SibSp\"]]\n",
    "target = df[\"Survived\"]\n",
    "\n",
    "X = features.values\n",
    "y = target.values"
   ]
  },
  {
   "cell_type": "code",
   "execution_count": 9,
   "metadata": {},
   "outputs": [
    {
     "data": {
      "text/plain": [
       "0.7935410282601294"
      ]
     },
     "execution_count": 9,
     "metadata": {},
     "output_type": "execute_result"
    }
   ],
   "source": [
    "log_reg = LogisticRegression()\n",
    "\n",
    "log_reg.fit(X, y)\n",
    "y_pred = log_reg.predict(X)\n",
    "\n",
    "scores = cross_val_score(log_reg, X, y, cv=10)\n",
    "scores.mean()"
   ]
  },
  {
   "cell_type": "code",
   "execution_count": 10,
   "metadata": {},
   "outputs": [
    {
     "data": {
      "text/plain": [
       "0.70282771535580524"
      ]
     },
     "execution_count": 10,
     "metadata": {},
     "output_type": "execute_result"
    }
   ],
   "source": [
    "svc = SVC()\n",
    "svc.fit(X, y)\n",
    "\n",
    "scores = cross_val_score(svc, X, y, cv=10,scoring=\"accuracy\")\n",
    "scores.mean()"
   ]
  },
  {
   "cell_type": "code",
   "execution_count": 11,
   "metadata": {},
   "outputs": [
    {
     "data": {
      "text/plain": [
       "0.82054562478719784"
      ]
     },
     "execution_count": 11,
     "metadata": {},
     "output_type": "execute_result"
    }
   ],
   "source": [
    "rand_forest = RandomForestClassifier(max_depth=5, n_estimators=24)\n",
    "rand_forest.fit(X, y) \n",
    "\n",
    "scores = cross_val_score(rand_forest, X, y, cv=10,scoring=\"accuracy\")\n",
    "scores.mean()"
   ]
  },
  {
   "cell_type": "code",
   "execution_count": 12,
   "metadata": {},
   "outputs": [
    {
     "name": "stdout",
     "output_type": "stream",
     "text": [
      "0.833894500561\n",
      "{'max_depth': 6, 'n_estimators': 47}\n"
     ]
    }
   ],
   "source": [
    "rand_forest = RandomForestClassifier()\n",
    "\n",
    "param_grid = dict({\n",
    "    \"n_estimators\" :list(range(10, 50)),\n",
    "    \"max_depth\": list(range(1,7))\n",
    "})\n",
    "grid = GridSearchCV(rand_forest, param_grid, cv = 10, scoring=\"accuracy\")\n",
    "grid.fit(X, y)\n",
    "print(grid.best_score_)\n",
    "print(grid.best_params_)"
   ]
  },
  {
   "cell_type": "code",
   "execution_count": 13,
   "metadata": {
    "collapsed": true
   },
   "outputs": [],
   "source": [
    "output = svc.predict(df_test.values).astype(int)\n",
    "df_output = pd.DataFrame()\n",
    "df_output[\"PassengerId\"] = df_test_i[\"PassengerId\"]\n",
    "df_output[\"Survived\"] = output\n",
    "df_output.to_csv(\"data/output.csv\",index=False)"
   ]
  },
  {
   "cell_type": "code",
   "execution_count": 14,
   "metadata": {
    "collapsed": true
   },
   "outputs": [],
   "source": [
    "grouped_by_sex = df_train_i.groupby(by=[\"Sex\", \"Survived\"])[\"Survived\"].count()\n",
    "grouped_by_class = df_train_i.groupby(by=[\"Pclass\", \"Survived\"])[\"Survived\"].count()\n",
    "grouped_by_sib = df_train_i.groupby(by=[\"SibSp\", \"Survived\"])[\"Survived\"].count()"
   ]
  },
  {
   "cell_type": "code",
   "execution_count": 15,
   "metadata": {},
   "outputs": [
    {
     "data": {
      "image/png": "[encoded data removed]",
      "text/plain": [
       "<matplotlib.figure.Figure at 0x10d31e0b8>"
      ]
     },
     "metadata": {},
     "output_type": "display_data"
    }
   ],
   "source": [
    "title(\"By sex\")\n",
    "pie(grouped_by_sex.values, labels=[\"female died\", \"female surv\", \"male died\", \"male surv\"]);"
   ]
  },
  {
   "cell_type": "code",
   "execution_count": 16,
   "metadata": {},
   "outputs": [
    {
     "data": {
      "image/png": "[encoded data removed]",
      "text/plain": [
       "<matplotlib.figure.Figure at 0x10d332358>"
      ]
     },
     "metadata": {},
     "output_type": "display_data"
    }
   ],
   "source": [
    "title(\"By class\")\n",
    "pie(grouped_by_class.values, labels=[\"1 died\", \"1 surv\", \"2 died\", \"2 surv\", \"3 died\", \"3 surv\"]);"
   ]
  },
  {
   "cell_type": "code",
   "execution_count": 17,
   "metadata": {},
   "outputs": [
    {
     "data": {
      "image/png": "[encoded data removed]",
      "text/plain": [
       "<matplotlib.figure.Figure at 0x10d2be748>"
      ]
     },
     "metadata": {},
     "output_type": "display_data"
    }
   ],
   "source": [
    "grouped_by_sib.plot(kind=\"pie\");"
   ]
  },
  {
   "cell_type": "code",
   "execution_count": 18,
   "metadata": {},
   "outputs": [
    {
     "data": {
      "text/plain": [
       "female    233\n",
       "male      109\n",
       "Name: Sex, dtype: int64"
      ]
     },
     "execution_count": 18,
     "metadata": {},
     "output_type": "execute_result"
    },
    {
     "data": {
      "image/png": "[encoded data removed]",
      "text/plain": [
       "<matplotlib.figure.Figure at 0x10d507c50>"
      ]
     },
     "metadata": {},
     "output_type": "display_data"
    }
   ],
   "source": [
    "survived_sex = df[df['Survived']==1]['Sex'].map({0:\"male\", 1:\"female\"}).value_counts()\n",
    "dead_sex = df[df['Survived']==0]['Sex'].map({0:\"male\", 1:\"female\"}).value_counts()\n",
    "df_plot_sex = pd.DataFrame([survived_sex,dead_sex])\n",
    "df_plot_sex.index = ['Survived','Dead']\n",
    "df_plot_sex.plot(kind='bar',stacked=True, alpha=0.5);\n",
    "survived_sex"
   ]
  },
  {
   "cell_type": "code",
   "execution_count": null,
   "metadata": {
    "collapsed": true
   },
   "outputs": [],
   "source": []
  }
 ],
 "metadata": {
  "kernelspec": {
   "display_name": "Python 3",
   "language": "python",
   "name": "python3"
  },
  "language_info": {
   "codemirror_mode": {
    "name": "ipython",
    "version": 3
   },
   "file_extension": ".py",
   "mimetype": "text/x-python",
   "name": "python",
   "nbconvert_exporter": "python",
   "pygments_lexer": "ipython3",
   "version": "3.6.1"
  }
 },
 "nbformat": 4,
 "nbformat_minor": 2
}
